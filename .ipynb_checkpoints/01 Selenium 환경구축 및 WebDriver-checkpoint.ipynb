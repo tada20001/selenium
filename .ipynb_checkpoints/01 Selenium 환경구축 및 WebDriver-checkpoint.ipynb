{
 "cells": [
  {
   "cell_type": "markdown",
   "metadata": {},
   "source": [
    "Selenium을 활용한 크롤링의 특징과 개발환경 세팅 방법에 대해서 살펴보고 Selenium을 통한 크롤링의 예시도 간략히 살펴본다."
   ]
  },
  {
   "cell_type": "markdown",
   "metadata": {},
   "source": [
    "## Selenium\n",
    "* 브라우저 자동화 라이브러리\n",
    "    * 주로 브라우저를 통한 UI 테스트에서 사용\n",
    "* 다양한 브라우저/OS/언어 지원\n",
    "* Browsers\n",
    "    * Firefox, Internet Explorer, Safari, Opera, Chrome, etc\n",
    "    * OS : Windows, Mac OSX, Linux, etc.\n",
    "    * Language : Python, Java, JavaScript, R, Ruby, etc.\n",
    "    \n",
    "### Selenium은 웹브라우저가 아니다. 웹브라이저를 컨트롤하는데 지원하는 라이브러리다.\n",
    "* Selenium 라이브러리는 WebDriver API를 지원하는데, 웹브라이저를 컨트롤한다. 이 API는 같은 코드로 여러 웹브라이저를 컨트롤할 수 있다.\n",
    "* requests의 경우는 html만 처리하지만, Selenium에서는 실제 웹브라이저를 사용한다. 그렇기 때문에 자바스크립 등 어떤 웹 애플리케이션 선택에 구애를 받지 않는다.\n"
   ]
  },
  {
   "cell_type": "markdown",
   "metadata": {},
   "source": [
    "### Selenium의 WebDriver API\n",
    "\n",
    "* 다양한 브라우저를 지원하는 API\n",
    "    * 즉 같은 API로 다양한 브라우저를 접근할 수 있다.\n",
    "    * 하지만 Driver에 따라 다른 동작을 보일 수도 있다.\n",
    "    \n",
    "* Driver 종류\n",
    "    * le : Internet Explorer\n",
    "    * Remote : 다른 머신에 Selenium Standalone Server를 설치하여 접속\n",
    "    * Third Parties\n",
    "        * Firefox : 버전 56(2017년)부터 Headless 모드 지원\n",
    "        * Chrome : 버전 59(2017년)부터 Headless 모드 지원\n",
    "    * opera\n",
    "    * PhantomJS : nodej로 구현되고 Headless 모드 구동이 장점 -> 개발 중단됨\n",
    "        * Chrome 브라우저에서 2017년에 Headless 기능을 지원함에 따라 의미가 없어짐"
   ]
  },
  {
   "cell_type": "markdown",
   "metadata": {},
   "source": [
    "### WebDriver 기본 API\n",
    "* driver.get(\"....\") : 지정 URL로 이동하기. 드라이버 객체 만들기\n",
    "* dirver.save_screenshot(\"저장경로.png\") : 스크린 샷 찍기\n",
    "* driver.title : 현재 페이지 제목\n",
    "* driver.page_source : 현재 HTML 내역. 만약 자바스크립으로 구동되는 웹페이지 라면 실시간으로 달라질 수 있는데 현재 실행되는 HTML 내역을 보여준다.\n",
    "* driver.current_url : 현재 URL\n",
    "* driver.close( ) : Focus된 윈도우만 닫기\n",
    "* driver.quit( ) : 현재 세션의 모든 윈도우 닫기\n",
    "* driver.find_element(s)_* : element 찾기"
   ]
  },
  {
   "cell_type": "markdown",
   "metadata": {},
   "source": [
    "### Selenium을 활용한 네이버 검색 예시(1)"
   ]
  },
  {
   "cell_type": "code",
   "execution_count": 2,
   "metadata": {},
   "outputs": [],
   "source": [
    "from selenium import webdriver\n",
    "from selenium.webdriver.common.by import By\n",
    "from selenium.webdriver.support import expected_conditions as EC\n",
    "from selenium.webdriver.support.ui import WebDriverWait\n",
    "from bs4 import BeautifulSoup"
   ]
  },
  {
   "cell_type": "code",
   "execution_count": 4,
   "metadata": {},
   "outputs": [
    {
     "name": "stdout",
     "output_type": "stream",
     "text": [
      "wait5, secods...\n",
      "loaded.\n",
      "https://blog.naver.com/ybmcampus?Redirect=Log&logNo=221677416585\n",
      "https://happynut.blog.me/221613257858\n",
      "https://blog.naver.com/soljungsoo?Redirect=Log&logNo=221674222989\n",
      "https://blog.naver.com/since201109?Redirect=Log&logNo=221553965961\n",
      "http://blog.fastcampus.co.kr/221608866453\n"
     ]
    }
   ],
   "source": [
    "# Selenium으로 브라우저 구동\n",
    "driver = webdriver.Chrome('drivers/chromedriver') # 여기에서는 headless모드를 지정안했기 때문에 GUI가 같이 뜸\n",
    "try: \n",
    "    driver.get(\"http://naver.com\") # 지정 주소의 웹페이지 방문\n",
    "    \n",
    "    # 현재 페이지 내에서 name=query 요소 찾고, 검색어 입력 후에 form submit\n",
    "    field = driver.find_element_by_name('query') # 테그 중에 name 속성이 있고, 그 중 query를 하나 찾는 것\n",
    "    field.send_keys('파이썬')\n",
    "    field.submit()\n",
    "    print('wait5, secods...')\n",
    "    \n",
    "    # 검색경과를 보여주기 위해 페이지 전환이 발생할 텐데 찾고자 하는 요소가 렌더링이 될때 까지 최대 5초 대기한다.\n",
    "    condition = EC.presence_of_all_elements_located((By.CLASS_NAME, 'sh_blog_title'))\n",
    "    WebDriverWait(driver, 5).until(condition)\n",
    "    print('loaded.')\n",
    "    \n",
    "    # 방법 1) 지정 태그 요소 찾기\n",
    "    #for tag in driver.find_element_by_css_selector('.sh_blog_title'):\n",
    "        #print(tag.text, tag.get_attribute('href'))\n",
    "    \n",
    "    # 방법 2)\n",
    "    html = driver.page_source\n",
    "    soup = BeautifulSoup(html, 'html.parser')\n",
    "    tag_list = soup.select('.sh_blog_title')\n",
    "    for tag in tag_list:\n",
    "        print(tag['href'])\n",
    "finally:\n",
    "    driver.quit()"
   ]
  },
  {
   "cell_type": "markdown",
   "metadata": {},
   "source": [
    "### 일반적인 Selenium 사용 패턴\n",
    "\n",
    "1) 브라우저 구동\n",
    "\n",
    "2) 원하는 페이지/화면 이동\n",
    "* 방법 1) 주소창에 주소를 직접 넣고 페이지로 이동\n",
    "* 방법 2) 링크를 클릭해서 페이지 이동\n",
    "* 방법 3) 화면을 스크롤 하거나 JavaScript 코드를 넘겨 실행\n",
    "\n",
    "3) 페이지 현재 HTML 현황을 읽거나 특정 태그를 선택하여 읽기\n",
    "\n",
    "4) Form Fields에 값을 채워넣고 Submit\n",
    "* ex) 검색폼, 로그인폼, 글쓰기폼 등\n",
    "* 각 Field를 지정하여 값을 채워넣고 Submit\n",
    "\n",
    "5) 페이지 전환이 완료되기를 대기하거나 원하는 컨텐츠가 랜더링될때까지 대기\n",
    "\n",
    "6) 스크린샷 찍기"
   ]
  },
  {
   "cell_type": "markdown",
   "metadata": {},
   "source": [
    "### requests를 활용한 HTTP 요청 : 네이버 실시간 검색어 크롤링"
   ]
  },
  {
   "cell_type": "code",
   "execution_count": 6,
   "metadata": {},
   "outputs": [],
   "source": [
    "import requests\n",
    "from bs4 import BeautifulSoup"
   ]
  },
  {
   "cell_type": "code",
   "execution_count": 7,
   "metadata": {},
   "outputs": [
    {
     "name": "stdout",
     "output_type": "stream",
     "text": [
      "20\n",
      "['fnb캐시리플렛', '루피움', '네파 피오패리스', '박나래기절베개', '플로이사프로모션', '세리번나이트 오늘만 반값', '세리번 나이트', '보스웰리아', '김지현', '맨유 리버풀', '경찰의날', '아멜리에', '개그우먼 김영희', '김영희', '이승우', '최고의 사랑', '가수 소리', '오늘 미세먼지', '제니퍼 로렌스', '덕성여자대학교']\n"
     ]
    }
   ],
   "source": [
    "res = requests.get('https://www.naver.com')\n",
    "html = res.text # 초기 응답 HTML 내역을 받음\n",
    "\n",
    "soup = BeautifulSoup(html, 'html.parser')\n",
    "tag_list = soup.select('.PM_CL_realtimeKeyword_rolling_base .ah_k')\n",
    "keyword_list = [tag.text for tag in tag_list]\n",
    "print(len(keyword_list))\n",
    "print(keyword_list)"
   ]
  },
  {
   "cell_type": "markdown",
   "metadata": {},
   "source": [
    "만약 JavaScript 위주의 사이트에서는 크롤링이 불가할 확률이 높다. 하지만 빠르고 효율적이다."
   ]
  },
  {
   "cell_type": "markdown",
   "metadata": {},
   "source": [
    "### Firefox 브라우저를 활용한 HTTP 요청"
   ]
  },
  {
   "cell_type": "code",
   "execution_count": 8,
   "metadata": {},
   "outputs": [],
   "source": [
    "from selenium import webdriver\n",
    "from bs4 import BeautifulSoup"
   ]
  },
  {
   "cell_type": "code",
   "execution_count": 9,
   "metadata": {},
   "outputs": [
    {
     "name": "stdout",
     "output_type": "stream",
     "text": [
      "20\n",
      "['fnb캐시리플렛', '루피움', '네파 피오패리스', '플로이사프로모션', '박나래기절베개', '세리번나이트 오늘만 반값', '세리번 나이트', '김지현', 'fnb캐시리플렛 lp', '맨유 리버풀', '경찰의날', '덕성여자대학교', 'fnb코인', '보스웰리아', '가수 소리', '이승우', '아멜리에', '티웨이항공', '소리', '린다 해밀턴']\n"
     ]
    }
   ],
   "source": [
    "executable_path = 'drivers/geckodriver'\n",
    "\n",
    "with webdriver.Firefox(executable_path=executable_path) as driver:  # 부라우저 구동\n",
    "    driver.get(\"https://naver.com\") # 주소를 직접 지정하여 웹페이지 방문\n",
    "    html = driver.page_source # 웹페이지 현재의 전체 HTML 읽기\n",
    "    \n",
    "    soup = BeautifulSoup(html, \"html.parser\")\n",
    "    tag_list = soup.select('.PM_CL_realtimeKeyword_rolling_base .ah_k')\n",
    "    keyword_list = [tag.text for tag in tag_list]\n",
    "    print(len(keyword_list))\n",
    "    print(keyword_list)"
   ]
  },
  {
   "cell_type": "markdown",
   "metadata": {},
   "source": [
    "WebDriver의 $__exit__$ 에서 driver.quit( )이 호출된다. \n",
    "\n",
    "JavaScript 위주의 사이트도 가능하나 리소스를 많이 먹고, requests에 비해 느린 처리를 한다. 단, IE 위주의 사이트는 IE를 써야 한다. "
   ]
  },
  {
   "cell_type": "markdown",
   "metadata": {},
   "source": [
    "## 요약\n",
    "* selenium을 통해 다양한 브라우저에 대한 자동화\n",
    "* 실제 브라우저를 사용하기 때문에 JavaScript 지원이 가능하다.\n",
    "    * 사이트에 따라 다른 브라우저를 써야 할지도 모른다.\n",
    "    * JavaScirpt 동작이 필요하지 않다면 requests를 사용하는 것이 빠르고 효율적이다.\n",
    "* 실제로 처리하는 요청이 많지 않고 고민/검토할 시간이 부족할 때에는 selenium을 통한 처리를 먼저 시도하는 것이 좋다."
   ]
  },
  {
   "cell_type": "code",
   "execution_count": null,
   "metadata": {},
   "outputs": [],
   "source": []
  }
 ],
 "metadata": {
  "kernelspec": {
   "display_name": "Python 3",
   "language": "python",
   "name": "python3"
  },
  "language_info": {
   "codemirror_mode": {
    "name": "ipython",
    "version": 3
   },
   "file_extension": ".py",
   "mimetype": "text/x-python",
   "name": "python",
   "nbconvert_exporter": "python",
   "pygments_lexer": "ipython3",
   "version": "3.7.3"
  }
 },
 "nbformat": 4,
 "nbformat_minor": 2
}
