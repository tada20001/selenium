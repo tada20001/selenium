{
 "cells": [
  {
   "cell_type": "markdown",
   "metadata": {},
   "source": [
    "## WebElement\n",
    "HTML Elment를 표현하는 개체\n",
    "\n",
    "selenium.webdriver.remote.webelement.WebElement\n",
    "\n",
    "\n",
    "## Element(s) 찾기\n",
    "단순히 HTML 내 컨텐츠를 읽는 목적으로는 dirver.page_source를 통해 전체 HTML 내역을 읽어내고, HTML Parser(BeautifulSoup4 등)을 통해 처리하는 것이 편리하다.\n",
    "\n",
    "* dirver/element\n",
    "    * .find_element_by\n",
    "        * _css_selector\n",
    "        * _id, _tag_name, _css_name, _name -> css selector로 변환하여 전달\n",
    "        * _xpath\n",
    "        * _link_text : 링크 레이블명으로 찾기\n",
    "        * _partial_link_text\n",
    "        \n",
    "        \n",
    " 1개의 Element 찾기(매칭되는 WebElement가 다수 있을 경우에는 첫 1개를 반환한다)\n",
    "* 반환값 : WebElement로 반환\n",
    "* 없을 경우 : selenium.common.exceptions.NoSuchElementException 예외 발생\n",
    "\n",
    "\n",
    "* find_elements_by\n",
    "    * _css_selector\n",
    "    * _tag_name, _class_name, _name => css selector로 변환하여 전달\n",
    "    * _xpath\n",
    "    * _link_text\n",
    "    *_partial_link_text\n",
    "    \n",
    " 다수의 Element 찾기\n",
    "* 반환값 : WebElement 리스트로 반환\n",
    "* 없을 경우 : 빈 리스트 반환"
   ]
  },
  {
   "cell_type": "markdown",
   "metadata": {},
   "source": [
    "## WebElement의 주요 속성\n",
    "\n",
    "#### .clear( ) : text 입력 요소일 경우에 입력된 값을 삭제한다\n",
    "#### .send_keys(*value) : 타이핑 시뮬레이션\n",
    "* file 업로드 필드의 경우, 이를 통해 파일 경로 입력이 가능하다.(상대경로/절대경로)\n",
    "* 모든 Element에서 가능하고 keybord shortcut 입력으로도 가능하다\n",
    "* 특수키 : Keys.ENTER, Keys.ARROW_DOWN 등  ===> from selenium.webdriver.common.keys import Keys\n",
    "\n",
    "#### .click( ) : 클릭\n",
    "#### .submit( ) : Form Field일 경우 submit\n",
    "#### .is_display( ) : visible 여부\n",
    "#### .is_enabled( ) : enable 여부\n",
    "#### .is_selected( ) : 선택여부(checkbox/radio)\n",
    "#### .text \n",
    "* display(즉 visible) 상태에서만 text를 획득하고 아니면 빈 문자열을 획득함\n",
    "\n",
    "#### .get_attribute(name)\n",
    "* property를 먼저 시도  ==>  attribute 시도 ==> 없을 경우 None을 반환\n",
    "* attribute : HTML 를 통해 지정된 initial state\n",
    "* property : 현재 state\n",
    "\n",
    "#### .screenshot(filename)\n",
    "#### .screenshot_as_base64\n",
    "#### .screenshot_as_png"
   ]
  },
  {
   "cell_type": "markdown",
   "metadata": {},
   "source": [
    "## 예시"
   ]
  },
  {
   "cell_type": "raw",
   "metadata": {},
   "source": [
    "<input type=\"text\" name=\"passwd\" id=\"passwd-id\" /> # 로그인 폼의 경우 가능"
   ]
  },
  {
   "cell_type": "raw",
   "metadata": {},
   "source": [
    "조건에 따라 element를 찾는 방법은 다양하다\n",
    "\n",
    "element = driver.find_element_by_id(\"passwd-id\")\n",
    "element = driver.find_element_by_css_selector(\"#passwd-id\")\n",
    "element = driver.find_element_by_css_selector(\"input#passwd-id\")\n",
    "\n",
    "element = driver.find_element_by_name(\"passwd\")\n",
    "element = driver.find_element_by_css_selector(\"[name=passwd]\")\n",
    "element = driver.find_element_by_css_selector(\"input[name=passwd]\")\n",
    "\n",
    "element = driver.find_element_by_xpath(\"//input[@id='passwd-id']\")"
   ]
  },
  {
   "cell_type": "markdown",
   "metadata": {},
   "source": [
    "지정 Element에 키 입력 넣기 가능"
   ]
  },
  {
   "cell_type": "raw",
   "metadata": {},
   "source": [
    "element.send_keys(\"My Password\")"
   ]
  },
  {
   "cell_type": "markdown",
   "metadata": {},
   "source": [
    "## 예시 ) 네이버 검색 : 첫번째 추천 검색어로 검색하기"
   ]
  },
  {
   "cell_type": "code",
   "execution_count": 1,
   "metadata": {},
   "outputs": [],
   "source": [
    "from selenium import webdriver\n",
    "from selenium.webdriver.common.keys import Keys\n",
    "import time"
   ]
  },
  {
   "cell_type": "code",
   "execution_count": 36,
   "metadata": {},
   "outputs": [],
   "source": [
    "driver = webdriver.Chrome(executable_path=\"./drivers/chromedriver\")"
   ]
  },
  {
   "cell_type": "code",
   "execution_count": 38,
   "metadata": {},
   "outputs": [],
   "source": [
    "driver.get(\"http://naver.com\")"
   ]
  },
  {
   "cell_type": "code",
   "execution_count": 39,
   "metadata": {},
   "outputs": [],
   "source": [
    "element = driver.find_element_by_id('query')\n",
    "element.clear()\n",
    "element.send_keys(\"파이썬\")\n",
    "time.sleep(2)\n",
    "element.send_keys(Keys.ARROW_DOWN, Keys.ENTER)"
   ]
  },
  {
   "cell_type": "code",
   "execution_count": 35,
   "metadata": {},
   "outputs": [],
   "source": [
    "driver.quit()"
   ]
  },
  {
   "cell_type": "code",
   "execution_count": 23,
   "metadata": {},
   "outputs": [
    {
     "name": "stdout",
     "output_type": "stream",
     "text": [
      "[파이썬] 제0장: 소개 및 설치\n",
      "https://blog.naver.com/acft?Redirect=Log&logNo=221647497658\n",
      "파이썬 (python) 설치 방법, Shell 실행과 IDLE Editor 실행\n",
      "https://blog.naver.com/makitcodelab?Redirect=Log&logNo=221447729861\n",
      "파이썬 아나콘다 설치하기 - Jupyter (쥬피터) 실행하기\n",
      "https://blog.naver.com/roboholic84?Redirect=Log&logNo=221626686511\n",
      "파이썬 설치\n",
      "https://fkfkfk9.blog.me/221665296409\n",
      "파이썬, 아나콘다 설치하기\n",
      "https://kiddwannabe.blog.me/221154599192\n"
     ]
    }
   ],
   "source": [
    "element_list = driver.find_elements_by_class_name('sh_blog_title')\n",
    "\n",
    "for element in element_list:\n",
    "    post_url = element.get_attribute('href')\n",
    "    post_title = element.get_attribute('title')\n",
    "    print(post_title)\n",
    "    print(post_url)"
   ]
  },
  {
   "cell_type": "code",
   "execution_count": 55,
   "metadata": {},
   "outputs": [
    {
     "name": "stdout",
     "output_type": "stream",
     "text": [
      "[파이썬] 제0장: 소개 및 설치\n",
      "https://blog.naver.com/acft?Redirect=Log&logNo=221647497658\n",
      "파이썬 (python) 설치 방법, Shell 실행과 IDLE Editor 실행\n",
      "https://blog.naver.com/makitcodelab?Redirect=Log&logNo=221447729861\n",
      "파이썬 아나콘다 설치하기 - Jupyter (쥬피터) 실행하기\n",
      "https://blog.naver.com/roboholic84?Redirect=Log&logNo=221626686511\n",
      "파이썬 설치\n",
      "https://fkfkfk9.blog.me/221665296409\n",
      "파이썬, 아나콘다 설치하기\n",
      "https://kiddwannabe.blog.me/221154599192\n"
     ]
    }
   ],
   "source": [
    "driver_path = 'drivers/geckodriver'\n",
    "with webdriver.Firefox(executable_path=driver_path) as driver: # 브라우저 구동\n",
    "    driver.implicitly_wait(10)\n",
    "\n",
    "    driver.get(\"https://naver.com\")\n",
    "    element = driver.find_element_by_id('query')\n",
    "    element.clear()\n",
    "    time.sleep(2)\n",
    "    element.send_keys(\"파이썬\")\n",
    "    time.sleep(2)\n",
    "    element.send_keys(Keys.ARROW_DOWN, Keys.ENTER)  # 방향키를 아래로 내리고 엔터를 친다. 즉, 첫번째 추천 검색어를 찾고 검색하기\n",
    "    # 이 시점에서 페이지 전환이 이루어진다\n",
    "    element_list = driver.find_elements_by_class_name('sh_blog_title')\n",
    "    for element in element_list:\n",
    "        post_url = element.get_attribute('href')\n",
    "        post_title = element.get_attribute('title')\n",
    "        print(post_title)\n",
    "        print(post_url)"
   ]
  },
  {
   "cell_type": "markdown",
   "metadata": {},
   "source": [
    "## 주의사항 : invisible WebElement의 .text 속성\n",
    "#### WebElement의 .text 속성\n",
    "\n",
    "* visible할때에만 획득 가능하다(== .is_displayed())\n",
    "* 대신 .get_attribute('innerHTML') 사용 가능\n",
    "    ex) 네이버 실시간 검색어"
   ]
  },
  {
   "cell_type": "markdown",
   "metadata": {},
   "source": [
    "### 예시) 네이버 실시간 검색어 : innerHTML 사용 예시"
   ]
  },
  {
   "cell_type": "code",
   "execution_count": 63,
   "metadata": {},
   "outputs": [],
   "source": [
    "from bs4 import BeautifulSoup\n",
    "from selenium import webdriver"
   ]
  },
  {
   "cell_type": "code",
   "execution_count": 70,
   "metadata": {},
   "outputs": [
    {
     "name": "stdout",
     "output_type": "stream",
     "text": [
      "['미샤베스트1+1', '', '', '', '', '', '', '', '', '', '', '', '', '', '', '', '', '', '', '']\n",
      "['미샤베스트1+1', '미세플라스틱 미검출 샤프란', '반트 1만개 이벤트', 'cjone 굿퀴즈', '미샤 베스트', '안산대학교', '투썸 원두', '세리번나이트 오늘만 반값', '투썸플레이스 원두', '남동공단 화재', '미세플라스틱 섬유유연제', '플로이사프로모션', '대우건설 채용', '샤프란 아우라', '남동공단', '세리번 나이트', '남동공단 불', '루피움', '김지현', '권용원']\n",
      "['미샤베스트1+1', '미세플라스틱 미검출 샤프란', '반트 1만개 이벤트', 'cjone 굿퀴즈', '미샤 베스트', '안산대학교', '투썸 원두', '세리번나이트 오늘만 반값', '투썸플레이스 원두', '남동공단 화재', '미세플라스틱 섬유유연제', '플로이사프로모션', '대우건설 채용', '샤프란 아우라', '남동공단', '세리번 나이트', '남동공단 불', '루피움', '김지현', '권용원', '미샤베스트1+1']\n"
     ]
    }
   ],
   "source": [
    "driver_path = \"drivers/chromedriver\"\n",
    "with webdriver.Chrome(driver_path) as driver:\n",
    "\n",
    "    driver.get(\"https://www.naver.com\")\n",
    "\n",
    "    css_selector = '.PM_CL_realtimeKeyword_rolling_base .ah_k'\n",
    "    element_list = driver.find_elements_by_css_selector(css_selector)\n",
    "\n",
    "    keyword_list = [element.text for element in element_list]  # .text로는 추출이 안됨. 현재 보여지는 항목만 접근됨\n",
    "    print(keyword_list)\n",
    "\n",
    "    keyword_list = [element.get_attribute('innerHTML') for element in element_list]\n",
    "\n",
    "    print(keyword_list)\n",
    "\n",
    "    html = driver.page_source\n",
    "    soup = BeautifulSoup(html, 'html.parser')\n",
    "    tag_list = soup.select(css_selector)\n",
    "    keyword_list = [tag.text for tag in tag_list]\n",
    "    print(keyword_list)"
   ]
  },
  {
   "cell_type": "markdown",
   "metadata": {},
   "source": [
    "## Ajax 컨텐츠 크롤링\n",
    "단점 : 웹페이지 로딩이 늦게 뜨면 추출하지 못할 수 있다. 따라서 임의로 지연처리가 필요하다."
   ]
  },
  {
   "cell_type": "markdown",
   "metadata": {},
   "source": [
    "### 단순처리"
   ]
  },
  {
   "cell_type": "code",
   "execution_count": 77,
   "metadata": {},
   "outputs": [
    {
     "name": "stdout",
     "output_type": "stream",
     "text": [
      "장고 2.0 주요 변경내역 살펴보기\n",
      "(기초편) 장고 차근차근 시작하기 2/E\n",
      "(중급편) 장고 기본인증 뽀개기\n",
      "(중급편) 장고 Form/ModelForm 제대로 알고 쓰기\n",
      "(중급편) 클래스 기반 뷰 잘 알고 쓰기\n",
      "(배포) 빠르게 살펴보는 Azure PaaS를 활용한 인프라 스트레스없는 웹서비스 배포\n",
      "(초급) Pandas 워밍업\n",
      "(초급) 10 Minutes to Pandas 따라하기\n",
      "Google Dialogflow와 파이썬/장고를 활용하여, 카카오톡 챗봇 만들기 (초급편)\n"
     ]
    }
   ],
   "source": [
    "url = \"https://askdjango.github.io/lv2/\"\n",
    "driver_path = \"drivers/chromedriver\"\n",
    "with webdriver.Chrome(driver_path) as driver:\n",
    "    driver.get(url)\n",
    "    element_list = driver.find_elements_by_css_selector(\"#s2_course_list a\")\n",
    "    \n",
    "    for element in element_list:\n",
    "        print(element.text)"
   ]
  },
  {
   "cell_type": "markdown",
   "metadata": {},
   "source": [
    "이 경우에는 페이지 로딩이 빨라서 리스트가 그대로 반환되지만, 그렇지 않을 경우에는 빈리스트가 반환된다."
   ]
  },
  {
   "cell_type": "markdown",
   "metadata": {},
   "source": [
    "### Waits\n",
    "각 elements들은 서로 다른 타이밍에 로딩된다. ==> GUI 애플리케이션은 비동기 세상이기 때문\n",
    "\n",
    "\n",
    "* 동작 원리\n",
    "    1. 지정시간(timeout) 동안에\n",
    "    2. 지정 주기(interval, 디폴트 0.5초)로\n",
    "    3. 지정 조건의 Element(s) 존재 여부를 체크(polling)\n",
    "        * 혹은 커스텀 조건의 함수 지정 가능\n",
    "* 2가지 waits\n",
    "     1. implicitly wait : driver에 전역 timeout 설정\n",
    "     2. explicitly wait : 매번 timeout 지정"
   ]
  },
  {
   "cell_type": "markdown",
   "metadata": {},
   "source": [
    "### implicitly wait 기본 코드"
   ]
  },
  {
   "cell_type": "raw",
   "metadata": {},
   "source": [
    "from selenium import webdriver\n",
    "\n",
    "with webdriver.Chrome(driver_path) as driver:\n",
    "    driver.implicitly_wait(10)  # 현 driver에 전역 설정. 즉 모든 find에 대해서 10초의 wait time을 갖겠다는 것임\n",
    "    ....\n",
    "    element_list = driver.find_elements_by_css_selector('.cource a')"
   ]
  },
  {
   "cell_type": "markdown",
   "metadata": {},
   "source": [
    "### explicitly wait 기본 코드"
   ]
  },
  {
   "cell_type": "raw",
   "metadata": {},
   "source": [
    "from selenium import webdriver\n",
    "from selenium.webdriver.common by import By\n",
    "from selenium.webdriver.support.ui import WebDriverWait\n",
    "from selenium.webdriver.support import expected_conditions as EC\n",
    "\n",
    "with webdriver.Chrome(driver_path) as driver:\n",
    "    \n",
    "    ....\n",
    "    \n",
    "    locator = (By.CSS_SELECTOR, '.course a')\n",
    "    element_list = WebDriverWait(driver, 10).unitil(\n",
    "        EC.presence_of_all_elements_located(locator)   # 조건을 거는데 이 자체는 함수임. 즉 이 함수를 0.5초마다 호출. 최대 10초까지 \n",
    "    )\n",
    "    \n",
    "    ...."
   ]
  },
  {
   "cell_type": "markdown",
   "metadata": {},
   "source": [
    "### 주의 : implicit / explicit waits를 같이 쓰지 않는다\n",
    "\n",
    "**공식문서에서 같이 쓰지 않기를 권고하고 있다**\n",
    "\n",
    "**이유는**\n",
    "* 예기치 못한 wait 시간이 소요될 수 있기 때문\n",
    "* impicit wait(10초), explicit wait(15초) 지정의 경우, 실제로는 20초 이후에 timeout이 발생할 수 있다고 한다."
   ]
  },
  {
   "cell_type": "markdown",
   "metadata": {},
   "source": [
    "### 다양한 Wait Conditions \n",
    "selenium.webdriver.support.expected_conditions : EC\n",
    "\n",
    "* title_is\n",
    "* title_contains\n",
    "* presence_of_elements_located\n",
    "* presence_of_all_elements_located\n",
    "* visibility_of_element_located\n",
    "* visibility_of\n",
    "* text_to_be_present_in_element\n",
    "* text_to_be_presnet_in_element_value\n",
    "* frame_to_be_availabel_and_switch_to_it\n",
    "........ 등등"
   ]
  },
  {
   "cell_type": "markdown",
   "metadata": {},
   "source": [
    "### 커스텀 Wait Conditions 예시(1)\n",
    "\n",
    "* wait 조건을 직접 만들어서 적용할 수 있다."
   ]
  },
  {
   "cell_type": "raw",
   "metadata": {},
   "source": [
    "def cond(driver):\n",
    "    return driver.find_element_by_id('some_id')\n",
    "\n",
    "element = WebDriverWait(driver, 10).until(cond)  # 예외가 발생하면 10초동안 계속 찾는다.\n",
    "print(element)"
   ]
  },
  {
   "cell_type": "markdown",
   "metadata": {},
   "source": [
    "### 커스텀 Wait Conditions 예시(2)\n",
    "**lambda를 통한 함수 구현**"
   ]
  },
  {
   "cell_type": "raw",
   "metadata": {},
   "source": [
    "cond = lambda driver: driver.find_element_by_id('some_id')\n",
    "element = WebDriverWait(driver, 10).until(cond)\n",
    "print(element)"
   ]
  },
  {
   "cell_type": "markdown",
   "metadata": {},
   "source": [
    "### 커스텀 Wait Conditions 예시(3)\n",
    "**함수 인스턴스에서의 호출가능한 객체**"
   ]
  },
  {
   "cell_type": "raw",
   "metadata": {},
   "source": [
    "class Cond:\n",
    "    def __init__(self):\n",
    "        pass\n",
    "    \n",
    "    def __call__(self, driver):\n",
    "        return driver.find_element_by_id('some_id')\n",
    "\n",
    "cond = Cond()\n",
    "element = WebDriverWait(driver, 10).until(cond)\n",
    "print(element)"
   ]
  },
  {
   "cell_type": "markdown",
   "metadata": {},
   "source": [
    "### 커스텀 Wait Conditions 예시(4)"
   ]
  },
  {
   "cell_type": "raw",
   "metadata": {},
   "source": [
    "def element_has_css_class(locator, clss_class):\n",
    "    def check_cond(driver):\n",
    "        element = driver.find_element(*locator)\n",
    "        if clss_class in element.get_attribute('class'):\n",
    "            return element\n",
    "        else:\n",
    "            return False\n",
    "    return check_cond\n",
    "\n",
    "cond = element_has_css_class((By.CSS_SELECTOR, 'div.intro_main > h3'), \"myCSSClass\")\n",
    "element = WebDriverWait(driver, 10).until(cond, \"Not Found myCSSClass in intro_main.\") # timeout이 발생할 때 에러 발생 가능\n",
    "print(element)"
   ]
  },
  {
   "cell_type": "markdown",
   "metadata": {},
   "source": [
    "### Demo: 다음 뉴스 댓글 읽기"
   ]
  },
  {
   "cell_type": "code",
   "execution_count": 90,
   "metadata": {},
   "outputs": [
    {
     "name": "stdout",
     "output_type": "stream",
     "text": [
      "의혹덩어리 나경원 특검도입에 찬성하시면 엄지척,\n",
      "아니시면 아래 내리시고 우동사리 되세요.\n",
      "\n",
      "검찰 자한당하고 한통속이 아니라면 증명해라 조국만큼 수사해라\n",
      "\n",
      "검새가 자한당과 한편인데다가\n",
      "남편이 부장판사이고 낼모레 대법관 서열인데\n",
      "나베 수사는 힘들다\n",
      "결국 공수처가 들어서야 수사가 가능할 것이다\n",
      "특검한다고 하면 몸으로 막을텐데\n",
      "불가능할테고\n",
      "조중동과 사학재벌이 지원사격해주고\n",
      "개독이 후원해주는데 \n",
      "어찌 이기겠는가\n",
      "\n"
     ]
    }
   ],
   "source": [
    "from selenium import webdriver\n",
    "\n",
    "driver_path = \"drivers/chromedriver\"\n",
    "page_url = \"https://news.v.daum.net/v/20191021122701962\"\n",
    "\n",
    "with webdriver.Chrome(driver_path) as driver:\n",
    "    driver.get(page_url)\n",
    "    driver.implicitly_wait(10) # 최대 10초 부여\n",
    "    element_list = driver.find_elements_by_css_selector('.cmt_info .desc_txt')\n",
    "    \n",
    "    for element in element_list:\n",
    "        print(element.get_attribute('innerHTML'))\n",
    "        print()"
   ]
  },
  {
   "cell_type": "code",
   "execution_count": 85,
   "metadata": {},
   "outputs": [],
   "source": [
    "driver.quit()"
   ]
  },
  {
   "cell_type": "code",
   "execution_count": null,
   "metadata": {},
   "outputs": [],
   "source": []
  }
 ],
 "metadata": {
  "kernelspec": {
   "display_name": "Python 3",
   "language": "python",
   "name": "python3"
  },
  "language_info": {
   "codemirror_mode": {
    "name": "ipython",
    "version": 3
   },
   "file_extension": ".py",
   "mimetype": "text/x-python",
   "name": "python",
   "nbconvert_exporter": "python",
   "pygments_lexer": "ipython3",
   "version": "3.7.3"
  }
 },
 "nbformat": 4,
 "nbformat_minor": 2
}
